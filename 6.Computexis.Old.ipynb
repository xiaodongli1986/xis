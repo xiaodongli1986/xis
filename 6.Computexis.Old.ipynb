{
 "metadata": {
  "name": "",
  "signature": "sha256:9272c21a99834eafa89df334ae93d0da1f2bd14cc9f131ab71f4fb4f9c7b4582"
 },
 "nbformat": 3,
 "nbformat_minor": 0,
 "worksheets": [
  {
   "cells": [
    {
     "cell_type": "code",
     "collapsed": false,
     "input": [
      "execfile('/home/xiaodongli/software/pythonlib/Tpcftools.py')\n",
      "execfile('/home/xiaodongli/software/pythonlib/bossdatamock.py')\n",
      "\n",
      "datamockdir = datamockdir_local\n",
      "smu_xis_covchisqdir = datamockdir + '/xis_covchisqs'\n",
      "commands.getoutput('mkdir -p '+str(smu_xis_covchisqdir));"
     ],
     "language": "python",
     "metadata": {},
     "outputs": [
      {
       "output_type": "stream",
       "stream": "stderr",
       "text": [
        "/home/xiaodongli/software/pythonlib/Tpcftools_smuintxi.py:513: SyntaxWarning: name 'oms' is assigned to before global declaration\n",
        "  global oms, ws, omws, scanname\n",
        "/home/xiaodongli/software/pythonlib/Tpcftools_smuintxi.py:513: SyntaxWarning: name 'ws' is assigned to before global declaration\n",
        "  global oms, ws, omws, scanname\n",
        "/home/xiaodongli/software/pythonlib/Tpcftools_smuintxi.py:513: SyntaxWarning: name 'omws' is assigned to before global declaration\n",
        "  global oms, ws, omws, scanname\n",
        "/home/xiaodongli/software/pythonlib/Tpcftools_smuintxi.py:513: SyntaxWarning: name 'scanname' is assigned to before global declaration\n",
        "  global oms, ws, omws, scanname\n",
        "/home/xiaodongli/software/pythonlib/Tpcftools_smuintxi.py:513: SyntaxWarning: name 'oms' is assigned to before global declaration\n",
        "  global oms, ws, omws, scanname\n"
       ]
      },
      {
       "output_type": "stream",
       "stream": "stderr",
       "text": [
        "/home/xiaodongli/software/pythonlib/Tpcftools_smuintxi.py:513: SyntaxWarning: name 'ws' is assigned to before global declaration\n",
        "  global oms, ws, omws, scanname\n",
        "/home/xiaodongli/software/pythonlib/Tpcftools_smuintxi.py:513: SyntaxWarning: name 'omws' is assigned to before global declaration\n",
        "  global oms, ws, omws, scanname\n",
        "/home/xiaodongli/software/pythonlib/Tpcftools_smuintxi.py:513: SyntaxWarning: name 'scanname' is assigned to before global declaration\n",
        "  global oms, ws, omws, scanname\n"
       ]
      }
     ],
     "prompt_number": 10
    },
    {
     "cell_type": "code",
     "collapsed": true,
     "input": [
      "### 1. List of omegam, w\n",
      "omwlist = Dense1subscan_omwlist\n",
      "\n",
      "### 2. Basic name of outputfile\n",
      "baseoutputfile = 'Dense1subscan'\n",
      "\n",
      "### 3. Range of imumin\n",
      "imumins = range(15)\n",
      "\n",
      "### 4. Maximal s\n",
      "smax = 51 \n",
      "\n",
      "### 5. Others\n",
      "catnamelist = ['DR12v4-LOWZ', 'DR12v4-CMASS', ]\n",
      "totbin = 3\n",
      "delta_time = 100\n",
      "\n",
      "icompute = 0\n",
      "ncompute = len(imumins)*len(catnamelist)*totbin*len(omwlist)\n",
      "print '###############################################'\n",
      "print ' Computing ', ncompute, ' sets of xi(s)...'\n",
      "t0 = time.clock(); t1 = t0"
     ],
     "language": "python",
     "metadata": {},
     "outputs": [
      {
       "output_type": "stream",
       "stream": "stdout",
       "text": [
        "###############################################\n",
        " Computing  114750  sets of xi(s)...\n"
       ]
      }
     ],
     "prompt_number": 6
    },
    {
     "cell_type": "code",
     "collapsed": false,
     "input": [
      "### 6. Checking existence of files\n",
      "if True:\n",
      "        filelist = []\n",
      "        for catname in catnamelist:\n",
      "            for ibin in range(totbin):\n",
      "                for omw in omwlist:\n",
      "                    om, w = omw\n",
      "                    galfile = binsplittedfilename(datafile(catname), ibin+1, totbin)\n",
      "                    galfile = cosmoconvertedfilename(galfile, om, w)\n",
      "                    rltfile = Tpcfrltfilename(galfile, smax, smax)\n",
      "                    filelist.append(rltfile)\n",
      "        isfiles(filelist)"
     ],
     "language": "python",
     "metadata": {},
     "outputs": [
      {
       "output_type": "stream",
       "stream": "stdout",
       "text": [
        " (isfiles) Finishing checking  7650 files; #-missing =  0\n",
        "\tList of existing files (7650):\n",
        "\t\t/home/xiaodongli/SparseFilaments/data/local_input/boss2pcf/data/DR12v4-LOWZ//xyzw.binsplitted/data.xyzw.1of3.cosmo-converted.om0.0600_w-2.5000.rmax51.51rbins.120mubins.2pcf\n",
        "\t\t/home/xiaodongli/SparseFilaments/data/local_input/boss2pcf/data/DR12v4-LOWZ//xyzw.binsplitted/data.xyzw.1of3.cosmo-converted.om0.0850_w-2.5000.rmax51.51rbins.120mubins.2pcf\n",
        "\t\t/home/xiaodongli/SparseFilaments/data/local_input/boss2pcf/data/DR12v4-LOWZ//xyzw.binsplitted/data.xyzw.1of3.cosmo-converted.om0.1100_w-2.5000.rmax51.51rbins.120mubins.2pcf\n",
        "\t\t/home/xiaodongli/SparseFilaments/data/local_input/boss2pcf/data/DR12v4-LOWZ//xyzw.binsplitted/data.xyzw.1of3.cosmo-converted.om0.1350_w-2.5000.rmax51.51rbins.120mubins.2pcf\n",
        "\t\t/home/xiaodongli/SparseFilaments/data/local_input/boss2pcf/data/DR12v4-LOWZ//xyzw.binsplitted/data.xyzw.1of3.cosmo-converted.om0.1600_w-2.5000.rmax51.51rbins.120mubins.2pcf\n",
        "\t\t/home/xiaodongli/SparseFilaments/data/local_input/boss2pcf/data/DR12v4-LOWZ//xyzw.binsplitted/data.xyzw.1of3.cosmo-converted.om0.1850_w-2.5000.rmax51.51rbins.120mubins.2pcf\n",
        "\t\t/home/xiaodongli/SparseFilaments/data/local_input/boss2pcf/data/DR12v4-LOWZ//xyzw.binsplitted/data.xyzw.1of3.cosmo-converted.om0.2100_w-2.5000.rmax51.51rbins.120mubins.2pcf\n",
        "\t\t/home/xiaodongli/SparseFilaments/data/local_input/boss2pcf/data/DR12v4-LOWZ//xyzw.binsplitted/data.xyzw.1of3.cosmo-converted.om0.2350_w-2.5000.rmax51.51rbins.120mubins.2pcf\n",
        "\t\t/home/xiaodongli/SparseFilaments/data/local_input/boss2pcf/data/DR12v4-LOWZ//xyzw.binsplitted/data.xyzw.1of3.cosmo-converted.om0.2600_w-2.5000.rmax51.51rbins.120mubins.2pcf\n",
        "\t\t/home/xiaodongli/SparseFilaments/data/local_input/boss2pcf/data/DR12v4-LOWZ//xyzw.binsplitted/data.xyzw.1of3.cosmo-converted.om0.2850_w-2.5000.rmax51.51rbins.120mubins.2pcf\n",
        "\t\t......\n",
        " (isfiles) Pass!!!\n"
       ]
      }
     ],
     "prompt_number": 8
    },
    {
     "cell_type": "code",
     "collapsed": false,
     "input": [
      "### 7. Compute    \n",
      "if True:\n",
      "    for imumin in imumins:\n",
      "        outputfile =  smu_xis_covchisqdir+'/'+baseoutputfile+'.smax'+str(smax)+'.imumin%03i'%imumin+'.xis'\n",
      "        nowf = open(outputfile, 'w')\n",
      "        nowf.write('# Cataloguename   bin-number    om,w    xi(s) at s<='+str(smax)+' \\n')\n",
      "        print ' Write to file:\\n\\t', outputfile\n",
      "        for catname in catnamelist:\n",
      "            ### Filename\n",
      "            for ibin in range(totbin):\n",
      "                for omw in omwlist:\n",
      "                    om, w = omw\n",
      "                    galfile = binsplittedfilename(datafile(catname), ibin+1, totbin)\n",
      "                    galfile = cosmoconvertedfilename(galfile, om, w)\n",
      "                    rltfile = Tpcfrltfilename(galfile, smax, smax)\n",
      "                    Y = smu_xis(rltfile, sfact=0, imumin=imumin, \n",
      "                            outputtofile=False,  smax=smax, nummubin=120, \n",
      "                            make_plot=False, savefig=False, figname=None)\n",
      "                    nowf.write(catname+'   '+str(ibin+1)+'  '+omwstr(om, w)+'    '+array_to_str(Y)+'\\n')\n",
      "                    icompute+=1\n",
      "                    t2 = time.clock()\n",
      "                    if t2 - t1>delta_time:\n",
      "                        print '  ', t2-t0, ' seconds:  ', icompute, '   of ', \\\n",
      "                            ncompute, '  xi(s) done;      rat = %.3f'%(icompute/float(ncompute))\n",
      "                        t1 = t2\n",
      "        nowf.close()\n",
      "\n",
      "    print 'Done. Time used = ', t2-t0"
     ],
     "language": "python",
     "metadata": {},
     "outputs": [
      {
       "output_type": "stream",
       "stream": "stdout",
       "text": [
        " Write to file:\n",
        "\t/home/xiaodongli/SparseFilaments/data/local_input/boss2pcf/data//xis_covchisqs/Dense1subscan.smax51.imumin0.xis\n"
       ]
      },
      {
       "ename": "KeyboardInterrupt",
       "evalue": "",
       "output_type": "pyerr",
       "traceback": [
        "\u001b[1;31m---------------------------------------------------------------------------\u001b[0m\n\u001b[1;31mKeyboardInterrupt\u001b[0m                         Traceback (most recent call last)",
        "\u001b[1;32m<ipython-input-4-8f552aada2d6>\u001b[0m in \u001b[0;36m<module>\u001b[1;34m()\u001b[0m\n\u001b[0;32m     16\u001b[0m                     Y = smu_xis(rltfile, sfact=0, imumin=imumin, \n\u001b[0;32m     17\u001b[0m                             \u001b[0moutputtofile\u001b[0m\u001b[1;33m=\u001b[0m\u001b[0mFalse\u001b[0m\u001b[1;33m,\u001b[0m  \u001b[0msmax\u001b[0m\u001b[1;33m=\u001b[0m\u001b[0msmax\u001b[0m\u001b[1;33m,\u001b[0m \u001b[0mnummubin\u001b[0m\u001b[1;33m=\u001b[0m\u001b[1;36m120\u001b[0m\u001b[1;33m,\u001b[0m\u001b[1;33m\u001b[0m\u001b[0m\n\u001b[1;32m---> 18\u001b[1;33m                             make_plot=False, savefig=False, figname=None)\n\u001b[0m\u001b[0;32m     19\u001b[0m                     \u001b[0mnowf\u001b[0m\u001b[1;33m.\u001b[0m\u001b[0mwrite\u001b[0m\u001b[1;33m(\u001b[0m\u001b[0mcatname\u001b[0m\u001b[1;33m+\u001b[0m\u001b[1;34m'   '\u001b[0m\u001b[1;33m+\u001b[0m\u001b[0mstr\u001b[0m\u001b[1;33m(\u001b[0m\u001b[0mibin\u001b[0m\u001b[1;33m+\u001b[0m\u001b[1;36m1\u001b[0m\u001b[1;33m)\u001b[0m\u001b[1;33m+\u001b[0m\u001b[1;34m'  '\u001b[0m\u001b[1;33m+\u001b[0m\u001b[0momwstr\u001b[0m\u001b[1;33m(\u001b[0m\u001b[0mom\u001b[0m\u001b[1;33m,\u001b[0m \u001b[0mw\u001b[0m\u001b[1;33m)\u001b[0m\u001b[1;33m+\u001b[0m\u001b[1;34m'    '\u001b[0m\u001b[1;33m+\u001b[0m\u001b[0marray_to_str\u001b[0m\u001b[1;33m(\u001b[0m\u001b[0mY\u001b[0m\u001b[1;33m)\u001b[0m\u001b[1;33m+\u001b[0m\u001b[1;34m'\\n'\u001b[0m\u001b[1;33m)\u001b[0m\u001b[1;33m\u001b[0m\u001b[0m\n\u001b[0;32m     20\u001b[0m                     \u001b[0micompute\u001b[0m\u001b[1;33m+=\u001b[0m\u001b[1;36m1\u001b[0m\u001b[1;33m\u001b[0m\u001b[0m\n",
        "\u001b[1;32m/home/xiaodongli/software/pythonlib/Tpcftools.py\u001b[0m in \u001b[0;36msmu_xis\u001b[1;34m(filename, outputtofile, outputfilename, smax, nummubin, imumin, ismax, is_sig_pi, sfact, make_plot, savefig, figname)\u001b[0m\n\u001b[0;32m    915\u001b[0m   \u001b[1;32mif\u001b[0m \u001b[0moutputfilename\u001b[0m \u001b[1;33m==\u001b[0m \u001b[0mNone\u001b[0m\u001b[1;33m:\u001b[0m  \u001b[0moutputfilename\u001b[0m \u001b[1;33m=\u001b[0m \u001b[0mfilename\u001b[0m\u001b[1;33m+\u001b[0m\u001b[1;34m'.xi_s'\u001b[0m\u001b[1;33m\u001b[0m\u001b[0m\n\u001b[0;32m    916\u001b[0m   \u001b[1;32mif\u001b[0m \u001b[0mTrue\u001b[0m\u001b[1;33m:\u001b[0m\u001b[1;33m\u001b[0m\u001b[0m\n\u001b[1;32m--> 917\u001b[1;33m                 \u001b[0mDDlist\u001b[0m\u001b[1;33m,\u001b[0m \u001b[0mDRlist\u001b[0m\u001b[1;33m,\u001b[0m \u001b[0mRRlist\u001b[0m \u001b[1;33m=\u001b[0m \u001b[0mXsfrom2ddata\u001b[0m\u001b[1;33m(\u001b[0m\u001b[0msmu__loadin\u001b[0m\u001b[1;33m(\u001b[0m\u001b[0mfilename\u001b[0m\u001b[1;33m,\u001b[0m \u001b[0msmusettings\u001b[0m\u001b[1;33m)\u001b[0m\u001b[1;33m,\u001b[0m \u001b[1;33m[\u001b[0m\u001b[1;36m4\u001b[0m\u001b[1;33m,\u001b[0m\u001b[1;36m5\u001b[0m\u001b[1;33m,\u001b[0m\u001b[1;36m6\u001b[0m\u001b[1;33m]\u001b[0m\u001b[1;33m)\u001b[0m\u001b[1;33m\u001b[0m\u001b[0m\n\u001b[0m\u001b[0;32m    918\u001b[0m                 \u001b[1;32mif\u001b[0m \u001b[0mismax\u001b[0m \u001b[1;33m==\u001b[0m \u001b[0mNone\u001b[0m\u001b[1;33m:\u001b[0m \u001b[0mismax\u001b[0m \u001b[1;33m=\u001b[0m \u001b[0msmax\u001b[0m\u001b[1;33m\u001b[0m\u001b[0m\n\u001b[0;32m    919\u001b[0m                 \u001b[1;32mif\u001b[0m \u001b[0mmake_plot\u001b[0m\u001b[1;33m:\u001b[0m \u001b[0mfig\u001b[0m\u001b[1;33m,\u001b[0m \u001b[0max1\u001b[0m \u001b[1;33m=\u001b[0m \u001b[0mfigax\u001b[0m\u001b[1;33m(\u001b[0m\u001b[1;33m)\u001b[0m\u001b[1;33m\u001b[0m\u001b[0m\n",
        "\u001b[1;32m/home/xiaodongli/software/pythonlib/Tpcftools.py\u001b[0m in \u001b[0;36msmu__loadin\u001b[1;34m(smufile, smusettings, icol)\u001b[0m\n\u001b[0;32m    121\u001b[0m                         \u001b[1;32mif\u001b[0m \u001b[0micol\u001b[0m\u001b[1;33m==\u001b[0m\u001b[1;34m''\u001b[0m\u001b[1;33m,\u001b[0m \u001b[0mload\u001b[0m \u001b[1;32min\u001b[0m \u001b[0mall\u001b[0m \u001b[0mcolumns\u001b[0m\u001b[1;33m;\u001b[0m \u001b[1;32melse\u001b[0m \u001b[0monly\u001b[0m \u001b[0mload\u001b[0m \u001b[1;32min\u001b[0m \u001b[0micol\u001b[0m \u001b[0mcolumn\u001b[0m\u001b[1;33m\u001b[0m\u001b[0m\n\u001b[0;32m    122\u001b[0m     \"\"\"\n\u001b[1;32m--> 123\u001b[1;33m     \u001b[0mdata\u001b[0m \u001b[1;33m=\u001b[0m \u001b[0mnp\u001b[0m\u001b[1;33m.\u001b[0m\u001b[0mloadtxt\u001b[0m\u001b[1;33m(\u001b[0m\u001b[0msmufile\u001b[0m\u001b[1;33m)\u001b[0m\u001b[1;33m\u001b[0m\u001b[0m\n\u001b[0m\u001b[0;32m    124\u001b[0m \u001b[1;33m\u001b[0m\u001b[0m\n\u001b[0;32m    125\u001b[0m     \u001b[1;32mif\u001b[0m \u001b[0micol\u001b[0m \u001b[1;33m==\u001b[0m \u001b[1;34m''\u001b[0m\u001b[1;33m:\u001b[0m\u001b[1;33m\u001b[0m\u001b[0m\n",
        "\u001b[1;32m/home/xiaodongli/software/anaconda/lib/python2.7/site-packages/numpy/lib/npyio.pyc\u001b[0m in \u001b[0;36mloadtxt\u001b[1;34m(fname, dtype, comments, delimiter, converters, skiprows, usecols, unpack, ndmin)\u001b[0m\n\u001b[0;32m    842\u001b[0m \u001b[1;33m\u001b[0m\u001b[0m\n\u001b[0;32m    843\u001b[0m         \u001b[1;31m# Parse each line, including the first\u001b[0m\u001b[1;33m\u001b[0m\u001b[1;33m\u001b[0m\u001b[0m\n\u001b[1;32m--> 844\u001b[1;33m         \u001b[1;32mfor\u001b[0m \u001b[0mi\u001b[0m\u001b[1;33m,\u001b[0m \u001b[0mline\u001b[0m \u001b[1;32min\u001b[0m \u001b[0menumerate\u001b[0m\u001b[1;33m(\u001b[0m\u001b[0mitertools\u001b[0m\u001b[1;33m.\u001b[0m\u001b[0mchain\u001b[0m\u001b[1;33m(\u001b[0m\u001b[1;33m[\u001b[0m\u001b[0mfirst_line\u001b[0m\u001b[1;33m]\u001b[0m\u001b[1;33m,\u001b[0m \u001b[0mfh\u001b[0m\u001b[1;33m)\u001b[0m\u001b[1;33m)\u001b[0m\u001b[1;33m:\u001b[0m\u001b[1;33m\u001b[0m\u001b[0m\n\u001b[0m\u001b[0;32m    845\u001b[0m             \u001b[0mvals\u001b[0m \u001b[1;33m=\u001b[0m \u001b[0msplit_line\u001b[0m\u001b[1;33m(\u001b[0m\u001b[0mline\u001b[0m\u001b[1;33m)\u001b[0m\u001b[1;33m\u001b[0m\u001b[0m\n\u001b[0;32m    846\u001b[0m             \u001b[1;32mif\u001b[0m \u001b[0mlen\u001b[0m\u001b[1;33m(\u001b[0m\u001b[0mvals\u001b[0m\u001b[1;33m)\u001b[0m \u001b[1;33m==\u001b[0m \u001b[1;36m0\u001b[0m\u001b[1;33m:\u001b[0m\u001b[1;33m\u001b[0m\u001b[0m\n",
        "\u001b[1;31mKeyboardInterrupt\u001b[0m: "
       ]
      }
     ],
     "prompt_number": 4
    }
   ],
   "metadata": {}
  }
 ]
}