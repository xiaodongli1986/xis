{
 "metadata": {
  "name": "",
  "signature": "sha256:13fb8df3c8298102ce9aec4f2b474b6f5a6abf156b80ab2419a60a3ea84c5cfc"
 },
 "nbformat": 3,
 "nbformat_minor": 0,
 "worksheets": [
  {
   "cells": [
    {
     "cell_type": "code",
     "collapsed": false,
     "input": [
      "execfile('/home/xiaodongli/software/pythonlib/Tpcftools.py')\n",
      "execfile('/home/xiaodongli/software/pythonlib/bossdatamock.py')\n",
      "\n",
      "datamockdir = datamockdir_cluster\n",
      "smu_xis_covchisqdir = datamockdir + '/xis_covchisqs'\n",
      "commands.getoutput('mkdir -p '+str(smu_xis_covchisqdir));"
     ],
     "language": "python",
     "metadata": {},
     "outputs": [
      {
       "output_type": "stream",
       "stream": "stderr",
       "text": [
        "/home/xiaodongli/software/pythonlib/Tpcftools_smuintxi.py:513: SyntaxWarning: name 'oms' is assigned to before global declaration\n",
        "  global oms, ws, omws, scanname\n",
        "/home/xiaodongli/software/pythonlib/Tpcftools_smuintxi.py:513: SyntaxWarning: name 'ws' is assigned to before global declaration\n",
        "  global oms, ws, omws, scanname\n",
        "/home/xiaodongli/software/pythonlib/Tpcftools_smuintxi.py:513: SyntaxWarning: name 'omws' is assigned to before global declaration\n",
        "  global oms, ws, omws, scanname\n",
        "/home/xiaodongli/software/pythonlib/Tpcftools_smuintxi.py:513: SyntaxWarning: name 'scanname' is assigned to before global declaration\n",
        "  global oms, ws, omws, scanname\n",
        "/home/xiaodongli/software/pythonlib/Tpcftools_smuintxi.py:513: SyntaxWarning: name 'oms' is assigned to before global declaration\n",
        "  global oms, ws, omws, scanname\n"
       ]
      },
      {
       "output_type": "stream",
       "stream": "stderr",
       "text": [
        "/home/xiaodongli/software/pythonlib/Tpcftools_smuintxi.py:513: SyntaxWarning: name 'ws' is assigned to before global declaration\n",
        "  global oms, ws, omws, scanname\n",
        "/home/xiaodongli/software/pythonlib/Tpcftools_smuintxi.py:513: SyntaxWarning: name 'omws' is assigned to before global declaration\n",
        "  global oms, ws, omws, scanname\n",
        "/home/xiaodongli/software/pythonlib/Tpcftools_smuintxi.py:513: SyntaxWarning: name 'scanname' is assigned to before global declaration\n",
        "  global oms, ws, omws, scanname\n"
       ]
      }
     ],
     "prompt_number": 1
    },
    {
     "cell_type": "code",
     "collapsed": true,
     "input": [
      "### 1. List of omegam, w\n",
      "#omwlist = Dense1subscan_omwlist\n",
      "\n",
      "### 2. Basic name of outputfile\n",
      "#baseoutputfile = 'Dense1subscan'\n",
      "\n",
      "### 3. Range of imumin\n",
      "imumins = range(20)+[30,40,50,60]\n",
      "\n",
      "### 4. Maximal s\n",
      "smax = 150 \n",
      "\n",
      "### 5. Others\n",
      "catnamelist = ['DR12v4-LOWZ', 'DR12v4-CMASS', 'DR12v4-LOWZ-N', 'DR12v4-CMASS-N','DR12v4-LOWZ-S', 'DR12v4-CMASS-S',]\n",
      "totbin = 3\n",
      "delta_time = 100\n"
     ],
     "language": "python",
     "metadata": {},
     "outputs": [
      {
       "output_type": "stream",
       "stream": "stdout",
       "text": [
        "\n"
       ]
      }
     ],
     "prompt_number": 6
    },
    {
     "cell_type": "code",
     "collapsed": false,
     "input": [
      "### 6. Checking existence of files\n",
      "if True:\n",
      "        filelist = []\n",
      "        for catname in catnamelist:\n",
      "         for catname2 in catname2list:\n",
      "            nummock = catinfo_nummock(catname, catname2)\n",
      "            for RSDstr in ['noRSD', 'RSD']:\n",
      "                for ibin in range(totbin):\n",
      "                    for imock in range(nummock):\n",
      "                        galfile = binsplittedfilename(mockfile(catname, catname2, imock, RSDstr), ibin+1, totbin)\n",
      "                        rltfile = Tpcfrltfilename(galfile, smax, smax)\n",
      "                        filelist.append(rltfile)\n",
      "        isfiles(filelist)"
     ],
     "language": "python",
     "metadata": {},
     "outputs": [
      {
       "output_type": "stream",
       "stream": "stdout",
       "text": [
        " (isfiles) Finishing checking  6288 files; #-missing =  0\n",
        "\tList of existing files (6288):\n",
        "\t\t/home/xiaodongli/SparseFilaments/data/input/boss2pcf/data/DR12v4-LOWZ//xyzw.binsplitted/HR3.noRSD.000.xyzw.1of3.rmax150.150rbins.120mubins.2pcf\n",
        "\t\t/home/xiaodongli/SparseFilaments/data/input/boss2pcf/data/DR12v4-LOWZ//xyzw.binsplitted/HR3.noRSD.001.xyzw.1of3.rmax150.150rbins.120mubins.2pcf\n",
        "\t\t/home/xiaodongli/SparseFilaments/data/input/boss2pcf/data/DR12v4-LOWZ//xyzw.binsplitted/HR3.noRSD.002.xyzw.1of3.rmax150.150rbins.120mubins.2pcf\n",
        "\t\t/home/xiaodongli/SparseFilaments/data/input/boss2pcf/data/DR12v4-LOWZ//xyzw.binsplitted/HR3.noRSD.003.xyzw.1of3.rmax150.150rbins.120mubins.2pcf\n",
        "\t\t/home/xiaodongli/SparseFilaments/data/input/boss2pcf/data/DR12v4-LOWZ//xyzw.binsplitted/HR3.noRSD.004.xyzw.1of3.rmax150.150rbins.120mubins.2pcf\n",
        "\t\t/home/xiaodongli/SparseFilaments/data/input/boss2pcf/data/DR12v4-LOWZ//xyzw.binsplitted/HR3.noRSD.005.xyzw.1of3.rmax150.150rbins.120mubins.2pcf\n",
        "\t\t/home/xiaodongli/SparseFilaments/data/input/boss2pcf/data/DR12v4-LOWZ//xyzw.binsplitted/HR3.noRSD.006.xyzw.1of3.rmax150.150rbins.120mubins.2pcf\n",
        "\t\t/home/xiaodongli/SparseFilaments/data/input/boss2pcf/data/DR12v4-LOWZ//xyzw.binsplitted/HR3.noRSD.007.xyzw.1of3.rmax150.150rbins.120mubins.2pcf\n",
        "\t\t/home/xiaodongli/SparseFilaments/data/input/boss2pcf/data/DR12v4-LOWZ//xyzw.binsplitted/HR3.noRSD.008.xyzw.1of3.rmax150.150rbins.120mubins.2pcf\n",
        "\t\t/home/xiaodongli/SparseFilaments/data/input/boss2pcf/data/DR12v4-LOWZ//xyzw.binsplitted/HR3.noRSD.009.xyzw.1of3.rmax150.150rbins.120mubins.2pcf\n",
        "\t\t......\n",
        " (isfiles) Pass!!!\n"
       ]
      }
     ],
     "prompt_number": 7
    },
    {
     "cell_type": "code",
     "collapsed": false,
     "input": [
      "### 7. Compute    \n",
      "if True:\n",
      "    t0= time.clock(); t1=t0\n",
      "    ncompute = len(filelist) * len(imumins)\n",
      "    print '#######################'\n",
      "    print ' Computing ', ncompute, 'files...'\n",
      "    for imumin in imumins:\n",
      "        outputfile =  smu_xis_covchisqdir+'/MockResult.imumin%03i'%imumin+'.xis'\n",
      "        nowf = open(outputfile, 'w')\n",
      "        nowf.write('# catname  catname2  RSDstr    imock    ibin    xi(s) at s<='+str(smax)+' \\n')\n",
      "        print ' Write to file:\\n\\t', outputfile\n",
      "        for catname in catnamelist:\n",
      "         for catname2 in catname2list:\n",
      "            nummock = catinfo_nummock(catname, catname2)\n",
      "            for RSDstr in ['noRSD', 'RSD']:\n",
      "                for imock in range(nummock):\n",
      "                    for ibin in range(totbin):\n",
      "                        galfile = binsplittedfilename(mockfile(catname, catname2, imock, RSDstr), ibin+1, totbin)\n",
      "                        rltfile = Tpcfrltfilename(galfile, smax, smax)\n",
      "                        Y = smu_xis(rltfile, sfact=0, imumin=imumin, \n",
      "                            outputtofile=False,  smax=smax, nummubin=120, \n",
      "                            make_plot=False, savefig=False, figname=None)\n",
      "                        nowf.write(array_to_str([catname,  catname2,  RSDstr,imock, ibin,])+'    '+array_to_str(Y)+'\\n')\n",
      "                        icompute+=1\n",
      "                        t2 = time.clock()\n",
      "                        if t2 - t1>delta_time:\n",
      "                            print '  ', t2-t0, ' seconds:  ', icompute, '   of ', \\\n",
      "                                ncompute, '  xi(s) done;      rat = %.3f'%(icompute/float(ncompute))\n",
      "                            t1 = t2\n",
      "                nowf.close()\n",
      "\n",
      "    print 'Done. Time used = ', t2-t0"
     ],
     "language": "python",
     "metadata": {},
     "outputs": [
      {
       "output_type": "stream",
       "stream": "stdout",
       "text": [
        "#######################\n",
        " Computing  150912 files...\n",
        " Write to file:\n",
        "\t/home/xiaodongli/SparseFilaments/data/input/boss2pcf/data//xis_covchisqs/MockResult.imumin000.xis\n"
       ]
      },
      {
       "ename": "NameError",
       "evalue": "name 't1' is not defined",
       "output_type": "pyerr",
       "traceback": [
        "\u001b[1;31m---------------------------------------------------------------------------\u001b[0m\n\u001b[1;31mNameError\u001b[0m                                 Traceback (most recent call last)",
        "\u001b[1;32m<ipython-input-13-33028e2781d4>\u001b[0m in \u001b[0;36m<module>\u001b[1;34m()\u001b[0m\n\u001b[0;32m     23\u001b[0m                         \u001b[0micompute\u001b[0m\u001b[1;33m+=\u001b[0m\u001b[1;36m1\u001b[0m\u001b[1;33m\u001b[0m\u001b[0m\n\u001b[0;32m     24\u001b[0m                         \u001b[0mt2\u001b[0m \u001b[1;33m=\u001b[0m \u001b[0mtime\u001b[0m\u001b[1;33m.\u001b[0m\u001b[0mclock\u001b[0m\u001b[1;33m(\u001b[0m\u001b[1;33m)\u001b[0m\u001b[1;33m\u001b[0m\u001b[0m\n\u001b[1;32m---> 25\u001b[1;33m                         \u001b[1;32mif\u001b[0m \u001b[0mt2\u001b[0m \u001b[1;33m-\u001b[0m \u001b[0mt1\u001b[0m\u001b[1;33m>\u001b[0m\u001b[0mdelta_time\u001b[0m\u001b[1;33m:\u001b[0m\u001b[1;33m\u001b[0m\u001b[0m\n\u001b[0m\u001b[0;32m     26\u001b[0m                             \u001b[1;32mprint\u001b[0m \u001b[1;34m'  '\u001b[0m\u001b[1;33m,\u001b[0m \u001b[0mt2\u001b[0m\u001b[1;33m-\u001b[0m\u001b[0mt0\u001b[0m\u001b[1;33m,\u001b[0m \u001b[1;34m' seconds:  '\u001b[0m\u001b[1;33m,\u001b[0m \u001b[0micompute\u001b[0m\u001b[1;33m,\u001b[0m \u001b[1;34m'   of '\u001b[0m\u001b[1;33m,\u001b[0m                                 \u001b[0mncompute\u001b[0m\u001b[1;33m,\u001b[0m \u001b[1;34m'  xi(s) done;      rat = %.3f'\u001b[0m\u001b[1;33m%\u001b[0m\u001b[1;33m(\u001b[0m\u001b[0micompute\u001b[0m\u001b[1;33m/\u001b[0m\u001b[0mfloat\u001b[0m\u001b[1;33m(\u001b[0m\u001b[0mncompute\u001b[0m\u001b[1;33m)\u001b[0m\u001b[1;33m)\u001b[0m\u001b[1;33m\u001b[0m\u001b[0m\n\u001b[0;32m     27\u001b[0m                             \u001b[0mt1\u001b[0m \u001b[1;33m=\u001b[0m \u001b[0mt2\u001b[0m\u001b[1;33m\u001b[0m\u001b[0m\n",
        "\u001b[1;31mNameError\u001b[0m: name 't1' is not defined"
       ]
      }
     ],
     "prompt_number": 13
    }
   ],
   "metadata": {}
  }
 ]
}